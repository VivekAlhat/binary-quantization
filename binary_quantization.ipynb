{
  "cells": [
    {
      "cell_type": "code",
      "execution_count": 4,
      "metadata": {
        "colab": {
          "base_uri": "https://localhost:8080/",
          "height": 313,
          "referenced_widgets": [
            "d27795f10c984570b3c9743d6b31ce59",
            "5384c424cf14420abc3c0d5baf970de2",
            "234fb984106747f0be0807c309bb0193",
            "619ca371ac6e415fb8de2e67ff9c4f33",
            "5853e2faa89a423ba28488c22f45e965",
            "8e000f07848f4cdab4d82621abfd53de",
            "3a17ef8656fe4501b5be09fa3ec2b1a6",
            "87b19c462ba6475583aab7dc0fc8378b",
            "b6150d3b8160473083de928a40ec1753",
            "6be17d4bf1e549cba7163e792162ca90",
            "13aadfe7b0194a94857542bd9ceb2135",
            "ab9298700be64474a48e6c9c8f810ba6",
            "edd137a417dd46e996494619b6af1e61",
            "7585876733a44d83be7cc709e9c35b9b",
            "7c279d7665934cca8bdc4f9c39991989",
            "b15e594d829641db88888a9cfc2830d8",
            "6365620f15194480831c60f521a8473d",
            "919f2f160dd14dd29ec9326002dab4a0",
            "c439e23af587494a98d0e0bc04405018",
            "4713c26753fb4fdfbdce186c8f0edd5c",
            "5c1af69604504974b58edee8a1dbf9cc",
            "cf1b3e83ffa9484c849e95eea26f53bd",
            "9fc9cc80240c4d459f3fa54b6c8733fb",
            "8565a7d7b7364739984a28aeeb1f485c",
            "9f0df34da1eb4d97804a9a284de30a25",
            "5599ca1ca96a4d2e8f2205ac3dc7b549",
            "fcf7a8962b82439bb277ec141c95df7e",
            "b4b0feedd03545fdbb6282e0d82acaf7",
            "f7d0ddba48de448db8187eaa691e0909",
            "e01ace15de0f444897201e5f1a83c843",
            "74bc909b4c884d6db2f5289fd0e34635",
            "71f4bf20daa04efcb65a5e0ea92c9770",
            "98a65ecefda94646bafaf6e69878dc5d",
            "8ec0833df04d4600869ddd095b9b44c6",
            "63d002c251554d1a805ada53f8fbc844",
            "9c208e61a4b64c25aa450c257960e391",
            "805049a946574caca99a44aa141a9f30",
            "fe2842ceff574b198b98ec8cec076652",
            "384c3605428b44fa8032101aabb15067",
            "8be4b43dcb0a4b4ab684238e1f92923a",
            "6236168da8b44716a44aac573d3e2fb9",
            "e80f0080316a4e38a570473d1d68725d",
            "1460b6f9b31646b389a075bf9432e8f1",
            "c9deab861dd949a9b22a74919dc00ff5",
            "cda0304ba40c4ce8bedeb8e378cd20c1",
            "3e1ced19974c4df5b43655c1bcf57dc9",
            "43884d16adfa480a8328dc9b29a008dc",
            "35467976a9c548739585c355b618d6d3",
            "2c5cf07667024f83b2c34c4817feca82",
            "5bdb21f331a2469680d000534af70f41",
            "b79e52420df44e00aace8b65731f5936",
            "d3d67775cb1d497da178c6d1b5227c9a",
            "957ce6837fbb4168bdb72a7287febc0e",
            "1679a0018ec249ca84c82b7532ea459a",
            "eef5f99f2ac64106a5a76230a3ac7861",
            "46768c666c1e45879c63bc5bb33b7697",
            "4e9a316c269f418eb43fe4f3b5bfe23c",
            "b0adb0c2e5ef4707bbf613699a9aba13",
            "d0564b34b9974c9999f9f3a6f1f8bff0",
            "0f2a6c06fa764ba39c5ae1afe6339956",
            "595b97a3255c489c88be7c4f77334bd2",
            "3206aadc8db84b189daf2d2f6cbf9591",
            "0caf57484fdc49c6a37235ff6bf3bfd5",
            "7e3ecd4d51ee408bb0c6afb217b7bb3a",
            "50165bdf4da6483680b034ba74b1d8a4",
            "1125556d4df1404b95b0a2c2e107cff7"
          ]
        },
        "id": "CxRW0peaBhpG",
        "outputId": "a7a043d9-c485-4807-f51d-8b82662b0255"
      },
      "outputs": [],
      "source": [
        "# load beir IR dataset\n",
        "from datasets import load_dataset\n",
        "\n",
        "corpus = load_dataset(\"BeIR/nq\", \"corpus\", split=\"corpus\")\n",
        "queries = load_dataset(\"BeIR/nq\", \"queries\", split=\"queries\")"
      ]
    },
    {
      "cell_type": "code",
      "execution_count": 5,
      "metadata": {
        "colab": {
          "base_uri": "https://localhost:8080/"
        },
        "id": "GLI_37_YCZP3",
        "outputId": "4391cd6f-47f5-4868-c763-59e9de36189f"
      },
      "outputs": [
        {
          "data": {
            "text/plain": [
              "{'_id': 'doc0',\n",
              " 'title': 'Minority interest',\n",
              " 'text': \"In accounting, minority interest (or non-controlling interest) is the portion of a subsidiary corporation's stock that is not owned by the parent corporation. The magnitude of the minority interest in the subsidiary company is generally less than 50% of outstanding shares, or the corporation would generally cease to be a subsidiary of the parent.[1]\"}"
            ]
          },
          "execution_count": 5,
          "metadata": {},
          "output_type": "execute_result"
        }
      ],
      "source": [
        "# load the corpus sample\n",
        "corpus[0]"
      ]
    },
    {
      "cell_type": "code",
      "execution_count": 6,
      "metadata": {
        "colab": {
          "base_uri": "https://localhost:8080/"
        },
        "id": "g_EoAPB4EyxF",
        "outputId": "e5e0280b-7192-4059-9d5a-49fdc542e3e8"
      },
      "outputs": [
        {
          "data": {
            "text/plain": [
              "{'_id': 'test0',\n",
              " 'title': '',\n",
              " 'text': 'what is non controlling interest on balance sheet'}"
            ]
          },
          "execution_count": 6,
          "metadata": {},
          "output_type": "execute_result"
        }
      ],
      "source": [
        "# load the query sample\n",
        "queries[0]"
      ]
    },
    {
      "cell_type": "code",
      "execution_count": 7,
      "metadata": {
        "colab": {
          "base_uri": "https://localhost:8080/",
          "height": 130,
          "referenced_widgets": [
            "5f29f4dd45094e2f938d8048da972a84",
            "a95e34fed65e4a43b1af3aa7b151c370",
            "8d5a59e9a65b408e86cb7e771b6f498d",
            "a0729744acba4ea78f5cc77faa630923",
            "5ec16d1fa0b844858aa9cc2e66c9a14a",
            "5ab9baccc7474e558a54ffa1ebab3963",
            "7e4daa434ba4427f9dbdfe0885719e6e",
            "2e143902f74d420293386e4fc42f2d15",
            "0f7669660eab4edeb143512374913a3f",
            "eb82c9c39362431e994d04f9f24f7297",
            "f8bd9a555ade41dcb7bc6d4a85a95311",
            "7d2d319c178542c188b86b2a29f74b3d",
            "a8b08bca3305494193679c183f391390",
            "6f6cf8f990bc446eb125357846d46418",
            "3021c40b9d8147c2a4d508cef544589f",
            "eb9f2b411e7447d0b64d46f647076140",
            "586139b003d549c7a8b55e1e374f8ea2",
            "5c38a305592e4eada762ae9ebf1132a8",
            "cce0bd377dde401cb7c3cc6cac69d7cb",
            "3b05e996fd48432e9677c085c09fb1f7",
            "542ae9dc20b34255ba2e468a56de3f17",
            "9499333f5f834f1285e929b0673878e0",
            "437f7cddd8fd4571a7108df8e0c2785d",
            "ea7c648c420d4cdabcc22abe15bce314",
            "5d5651666fec43488cef1e4a6f9b17b8",
            "3be92ab7969d45b9a59edcf9cdbb3720",
            "09ba92b2ea6c46e6b5c2995802640347",
            "1ce3a4d23251449287db56c81d68e711",
            "af1466c1ea3743a3ab680ae223c564aa",
            "4830b52a393f4a6d91451a4f283fe20f",
            "393ee2a144ba41b88ee82a9c14cbefd1",
            "f87705e596e74c9ba931364d06889653",
            "2f5d3a96df764124aa3675a5adbc2b55"
          ]
        },
        "id": "tQsjqJrkE5uP",
        "outputId": "fc58eccd-a5da-46e7-ce94-2d1ed9533b8c"
      },
      "outputs": [
        {
          "name": "stderr",
          "output_type": "stream",
          "text": [
            "Generating test split: 100%|█████████████████████████████████████| 4201/4201 [00:00<00:00, 351695.00 examples/s]"
          ]
        },
        {
          "name": "stdout",
          "output_type": "stream",
          "text": [
            "queries with relevance labels: 3452\n"
          ]
        },
        {
          "name": "stderr",
          "output_type": "stream",
          "text": [
            "\n"
          ]
        }
      ],
      "source": [
        "# load the qrels split from beir\n",
        "qrels = load_dataset(\"BeIR/nq-qrels\", split=\"test\")\n",
        "\n",
        "# parse qrels into a dictionary\n",
        "from collections import defaultdict\n",
        "qrel_lookup = defaultdict(set)\n",
        "for row in qrels:\n",
        "    if row.get(\"score\", 0) > 0:\n",
        "        qrel_lookup[row[\"query-id\"]].add(row[\"corpus-id\"])\n",
        "\n",
        "print(\"queries with relevance labels:\", len(qrel_lookup))"
      ]
    },
    {
      "cell_type": "code",
      "execution_count": 12,
      "metadata": {
        "colab": {
          "base_uri": "https://localhost:8080/"
        },
        "id": "G_X13LZSLq1F",
        "outputId": "6ac6d3a9-5907-42a4-be71-244a7626cbe9"
      },
      "outputs": [
        {
          "name": "stdout",
          "output_type": "stream",
          "text": [
            "Device: cuda\n"
          ]
        }
      ],
      "source": [
        "# check if cuda is supported\n",
        "import torch\n",
        "print(\"Device:\", \"cuda\" if torch.cuda.is_available() else \"cpu\")"
      ]
    },
    {
      "cell_type": "code",
      "execution_count": 13,
      "metadata": {
        "colab": {
          "base_uri": "https://localhost:8080/"
        },
        "id": "CFzNRgjoFz9t",
        "outputId": "2278904c-2c9a-4d92-c50c-51dbc026d231"
      },
      "outputs": [
        {
          "name": "stdout",
          "output_type": "stream",
          "text": [
            "corpus size: 2681468\n",
            "queries size: 3452\n",
            "sample qrel: [('test0', {'doc0': 1, 'doc1': 1})]\n"
          ]
        }
      ],
      "source": [
        "from sentence_transformers import SentenceTransformer\n",
        "import time\n",
        "\n",
        "# model with 384 dimension vectors\n",
        "# (intfloat/e5-small-v2) or (all-MiniLM-L6-v2)\n",
        "EMBEDDING_MODEL = \"all-MiniLM-L6-v2\" # this model has better metrics compared to intfloat/e5-small-v2\n",
        "embedder = SentenceTransformer(EMBEDDING_MODEL, device=\"cuda\") # for faster processing\n",
        "\n",
        "# prepare data for embeddings\n",
        "corpus_ids = corpus[\"_id\"]\n",
        "corpus_texts = [\n",
        "    (title if title else \"\") + \" \" + (text if text else \"\")\n",
        "    for title, text in zip(corpus[\"title\"], corpus[\"text\"])\n",
        "]\n",
        "\n",
        "query_ids = queries[\"_id\"]\n",
        "query_texts = queries[\"text\"]\n",
        "\n",
        "qrels_dict = {}\n",
        "for row in qrels:\n",
        "    qid, docid, score = row[\"query-id\"], row[\"corpus-id\"], row[\"score\"]\n",
        "    qrels_dict.setdefault(qid, {})[docid] = score\n",
        "\n",
        "print(\"corpus size:\", len(corpus_ids))\n",
        "print(\"queries size:\", len(query_ids))\n",
        "print(\"sample qrel:\", list(qrels_dict.items())[:1])"
      ]
    },
    {
      "cell_type": "code",
      "execution_count": 14,
      "metadata": {
        "colab": {
          "base_uri": "https://localhost:8080/",
          "height": 84,
          "referenced_widgets": [
            "5dd2118cbf304000b0482a42b35292bf",
            "2c93c018939c47c8987435c25e08a52d",
            "b43e76eabcdc48678df3e0a10c9ef32e",
            "694d1cb6f37442b5a398429fed99ab7a",
            "4871d1a41ed4449685bb8d3587695bb8",
            "c80af76330bd4e7d9716490723ee995f",
            "25db12697b214dea8f517ac092ebc515",
            "c5f83b634beb4f8bb961360ab7bcdc39",
            "5fb4a3bbf1454b12a1f599f55598b450",
            "cf707226b5b940c09bacf5c8a51ecdf5",
            "ceb73e6a9b1a476c85fde0b20a094551"
          ]
        },
        "id": "bqCRDCVTI9I2",
        "outputId": "c4654805-3c80-4e0c-cbea-42b170a3b40c"
      },
      "outputs": [
        {
          "name": "stdout",
          "output_type": "stream",
          "text": [
            "encoding corpus with all-MiniLM-L6-v2\n"
          ]
        },
        {
          "name": "stderr",
          "output_type": "stream",
          "text": [
            "Batches: 100%|██████████████████████████████████████████████████████████████| 3125/3125 [02:20<00:00, 22.18it/s]\n"
          ]
        },
        {
          "name": "stdout",
          "output_type": "stream",
          "text": [
            "embedded in 142.184257 sec\n"
          ]
        }
      ],
      "source": [
        "import numpy as np\n",
        "import os\n",
        "\n",
        "corpus_file = \"corpus_embeddings.npy\"\n",
        "if os.path.exists(corpus_file):\n",
        "  print(f\"loading cached corpus embeddings from {corpus_file}\")\n",
        "  corpus_embeddings = np.load(corpus_file)\n",
        "else:\n",
        "  # embed corpus texts\n",
        "  print(f\"encoding corpus with {EMBEDDING_MODEL}\")\n",
        "  t_corpus = time.time()\n",
        "  corpus_embeddings = embedder.encode(corpus_texts[:100000], convert_to_numpy=True, show_progress_bar=True)\n",
        "  print(f\"embedded in %2f sec\" %(time.time()-t_corpus))"
      ]
    },
    {
      "cell_type": "code",
      "execution_count": 15,
      "metadata": {
        "colab": {
          "base_uri": "https://localhost:8080/",
          "height": 84,
          "referenced_widgets": [
            "0beb6bef56684fc0bb350bcfcd4e14da",
            "4a784476685d40988721419f253efd36",
            "31e6d056e275447d83b2f12e5bd57e0a",
            "ea3cf21e681a456c90fb780f28cc2048",
            "6e9dd7b8ea134d4a8f13b44f0f16d6df",
            "b105b56aaf4e44b8ab1fcb349badafdd",
            "652731b9fc4f4153884a6245e1b94fa0",
            "c408d971fb714b9687798c10d919fab0",
            "8632a4b55c1141d780ebd1e70c41f99e",
            "3da97e333702476785b70808d9bcf381",
            "6a8d15d3bba549b0ae44edd9d13cbd73"
          ]
        },
        "id": "T5aV3O7RPElj",
        "outputId": "63c875c2-23ed-405f-f789-b867eba9cc04"
      },
      "outputs": [
        {
          "name": "stdout",
          "output_type": "stream",
          "text": [
            "encoding queries with all-MiniLM-L6-v2\n"
          ]
        },
        {
          "name": "stderr",
          "output_type": "stream",
          "text": [
            "Batches: 100%|██████████████████████████████████████████████████████████████████| 54/54 [00:01<00:00, 52.83it/s]\n"
          ]
        },
        {
          "name": "stdout",
          "output_type": "stream",
          "text": [
            "embedded in 1.416561 sec\n"
          ]
        }
      ],
      "source": [
        "query_file = \"query_embeddings.npy\"\n",
        "if os.path.exists(query_file):\n",
        "  print(f\"loading cached query embeddings from {query_file}\")\n",
        "  corpus_embeddings = np.load(query_file)\n",
        "else:\n",
        "  # embed queries texts\n",
        "  print(f\"encoding queries with {EMBEDDING_MODEL}\")\n",
        "  t_queries= time.time()\n",
        "  query_embeddings = embedder.encode(query_texts, convert_to_numpy=True, show_progress_bar=True, batch_size=64)\n",
        "  print(f\"embedded in %2f sec\" %(time.time()-t_queries))"
      ]
    },
    {
      "cell_type": "code",
      "execution_count": 16,
      "metadata": {
        "id": "Lvr6oMVIJ4zm"
      },
      "outputs": [],
      "source": [
        "# cache embeddings (optional)\n",
        "# np.save(\"corpus_embeddings.npy\", corpus_embeddings)\n",
        "# np.save(\"query_embeddings.npy\", query_embeddings)"
      ]
    },
    {
      "cell_type": "code",
      "execution_count": 17,
      "metadata": {
        "colab": {
          "base_uri": "https://localhost:8080/"
        },
        "id": "Hq6wZQ8TPNEN",
        "outputId": "c30ec5af-a1d0-4776-f206-0449c394fc58"
      },
      "outputs": [
        {
          "data": {
            "text/plain": [
              "384"
            ]
          },
          "execution_count": 17,
          "metadata": {},
          "output_type": "execute_result"
        }
      ],
      "source": [
        "dim = corpus_embeddings.shape[1]\n",
        "dim"
      ]
    },
    {
      "cell_type": "code",
      "execution_count": 18,
      "metadata": {
        "id": "wjlCreMkPSxF"
      },
      "outputs": [],
      "source": [
        "import faiss\n",
        "\n",
        "# build FAISS index (float32)\n",
        "index_flat = faiss.IndexFlatIP(dim)\n",
        "faiss.normalize_L2(corpus_embeddings)\n",
        "index_flat.add(corpus_embeddings)"
      ]
    },
    {
      "cell_type": "code",
      "execution_count": 19,
      "metadata": {
        "id": "4qTQiOpfPlTb"
      },
      "outputs": [],
      "source": [
        "# build binary quantized index\n",
        "corpus_embeddings_bin = np.packbits((corpus_embeddings > 0).astype(np.uint8), axis=1)\n",
        "index_bin = faiss.IndexBinaryFlat(corpus_embeddings_bin.shape[1]*8)\n",
        "index_bin.add(corpus_embeddings_bin)"
      ]
    },
    {
      "cell_type": "code",
      "execution_count": 20,
      "metadata": {
        "id": "AQA3hXPdP_-s"
      },
      "outputs": [],
      "source": [
        "# retrieval\n",
        "def retrieve(index, query_embeddings, top_k=10, binary=False):\n",
        "  results = {}\n",
        "  for i, qid in enumerate(query_ids):\n",
        "    q_emb = query_embeddings[i:i+1]\n",
        "    if not binary:\n",
        "      faiss.normalize_L2(q_emb)\n",
        "      D, I = index.search(q_emb, top_k)\n",
        "    else:\n",
        "      q_emb_bin = np.packbits((q_emb > 0).astype(np.uint8), axis=1)\n",
        "      D, I = index.search(q_emb_bin, top_k)\n",
        "    hits = {corpus_ids[int(idx)]: float(D[0][j]) for j, idx in enumerate(I[0])}\n",
        "    results[qid] = hits\n",
        "  return results"
      ]
    },
    {
      "cell_type": "code",
      "execution_count": 21,
      "metadata": {
        "colab": {
          "base_uri": "https://localhost:8080/"
        },
        "id": "wh9K7O8WRcul",
        "outputId": "4c13b3c9-3897-445d-f859-889c291362ba"
      },
      "outputs": [
        {
          "name": "stdout",
          "output_type": "stream",
          "text": [
            "float index retrieval\n",
            "float index retrieval completed for 3452 queries in 29.094324 sec\n"
          ]
        }
      ],
      "source": [
        "# run float retrieval\n",
        "print(\"float index retrieval\")\n",
        "t_float_retrieval = time.time()\n",
        "float_results = retrieve(index_flat, query_embeddings, top_k=10, binary=False)\n",
        "print(f\"float index retrieval completed for {len(query_embeddings)} queries in %2f sec\" %(time.time()-t_float_retrieval))"
      ]
    },
    {
      "cell_type": "code",
      "execution_count": 22,
      "metadata": {
        "colab": {
          "base_uri": "https://localhost:8080/"
        },
        "id": "1zfUroFSRrvT",
        "outputId": "0005be0c-3715-4ef5-af92-6a76f7450bf4"
      },
      "outputs": [
        {
          "name": "stdout",
          "output_type": "stream",
          "text": [
            "binary index retrieval\n",
            "binary index retrieval completed for 3452 queries in 1.849122 sec\n"
          ]
        }
      ],
      "source": [
        "# run binary retrieval\n",
        "print(\"binary index retrieval\")\n",
        "t_binary_retrieval = time.time()\n",
        "binary_results = retrieve(index_bin, query_embeddings, top_k=10, binary=True)\n",
        "print(f\"binary index retrieval completed for {len(query_embeddings)} queries in %2f sec\" %(time.time()-t_binary_retrieval))"
      ]
    },
    {
      "cell_type": "code",
      "execution_count": 23,
      "metadata": {
        "colab": {
          "base_uri": "https://localhost:8080/"
        },
        "id": "vQlL6BD7TzbK",
        "outputId": "592c48f0-d61f-4da9-d0b2-174b5ac8773f"
      },
      "outputs": [
        {
          "name": "stdout",
          "output_type": "stream",
          "text": [
            "total vectors in float index 100000\n",
            "total vectors in binary index 100000\n"
          ]
        }
      ],
      "source": [
        "# print total vectors in both\n",
        "print(f\"total vectors in float index {len(corpus_embeddings)}\")\n",
        "print(f\"total vectors in binary index {len(corpus_embeddings_bin)}\")"
      ]
    },
    {
      "cell_type": "code",
      "execution_count": 24,
      "metadata": {
        "colab": {
          "base_uri": "https://localhost:8080/",
          "height": 426
        },
        "id": "E0Dx4s_ZSt6t",
        "outputId": "406ebdce-2c67-4952-fd01-a0b67aa23f77"
      },
      "outputs": [
        {
          "name": "stdout",
          "output_type": "stream",
          "text": [
            "float index size: 146.48 MB\n",
            "binary index size: 4.58 MB\n"
          ]
        },
        {
          "data": {
            "image/png": "[encoded data removed]",
            "text/plain": [
              "<Figure size 600x400 with 1 Axes>"
            ]
          },
          "metadata": {},
          "output_type": "display_data"
        }
      ],
      "source": [
        "# index size comparison\n",
        "import matplotlib.pyplot as plt\n",
        "\n",
        "float_size = corpus_embeddings.nbytes / (1024 * 1024)\n",
        "bin_size = corpus_embeddings_bin.nbytes / (1024 * 1024)\n",
        "\n",
        "print(f\"float index size: {float_size:.2f} MB\")\n",
        "print(f\"binary index size: {bin_size:.2f} MB\")\n",
        "\n",
        "plt.figure(figsize=(6,4))\n",
        "bars = plt.bar([\"Float\", \"Binary\"],[float_size, bin_size])\n",
        "plt.ylabel(\"Index size (MB)\")\n",
        "plt.title(\"Index Memory Size Comparison for 100k vectors\")\n",
        "\n",
        "for bar in bars:\n",
        "    height = bar.get_height()\n",
        "    plt.text(bar.get_x() + bar.get_width()/2, height + 0.01, f\"{height:.2f} MB\", ha='center', va='bottom')\n",
        "\n",
        "plt.show()"
      ]
    },
    {
      "cell_type": "code",
      "execution_count": 25,
      "metadata": {
        "colab": {
          "base_uri": "https://localhost:8080/",
          "height": 426
        },
        "id": "xpK9x83gTfP1",
        "outputId": "b7f2154c-05ff-4764-cffa-1e5f0d80f888"
      },
      "outputs": [
        {
          "name": "stdout",
          "output_type": "stream",
          "text": [
            "avg float latency: 8.03 ms/query\n",
            "avg binary latency: 0.65 ms/query\n"
          ]
        },
        {
          "data": {
            "image/png": "[encoded data removed]",
            "text/plain": [
              "<Figure size 600x400 with 1 Axes>"
            ]
          },
          "metadata": {},
          "output_type": "display_data"
        }
      ],
      "source": [
        "# query latency comparison\n",
        "TOP_K = 10\n",
        "search_times_float, search_times_bin = [], []\n",
        "\n",
        "for q_emb in query_embeddings:\n",
        "  q = q_emb.reshape(1, -1)\n",
        "\n",
        "  # float search\n",
        "  start = time.time()\n",
        "  _, _ = index_flat.search(q, TOP_K)\n",
        "  search_times_float.append(time.time() - start)\n",
        "\n",
        "  # binary search\n",
        "  q_bin = np.packbits((q > 0).astype(np.uint8), axis=1)\n",
        "  start = time.time()\n",
        "  _, _ = index_bin.search(q_bin, TOP_K)\n",
        "  search_times_bin.append(time.time() - start)\n",
        "\n",
        "# average latency\n",
        "avg_flat_latency = np.mean(search_times_float)\n",
        "avg_bin_latency = np.mean(search_times_bin)\n",
        "\n",
        "print(f\"avg float latency: {avg_flat_latency*1000:.2f} ms/query\")\n",
        "print(f\"avg binary latency: {avg_bin_latency*1000:.2f} ms/query\")\n",
        "\n",
        "# plot chart\n",
        "plt.figure(figsize=(6,4))\n",
        "bars = plt.bar([\"Float\", \"Binary\"], [avg_flat_latency*1000, avg_bin_latency*1000], color=[\"skyblue\", \"orange\"])\n",
        "plt.ylabel(\"Avg Query Latency (ms)\")\n",
        "plt.title(f\"Float vs Binary Index Query Latency for {len(query_embeddings)} queries\")\n",
        "\n",
        "for bar in bars:\n",
        "    height = bar.get_height()\n",
        "    plt.text(bar.get_x() + bar.get_width()/2, height + 0.01, f\"{height:.2f} ms\", ha='center', va='bottom')\n",
        "\n",
        "plt.show()"
      ]
    },
    {
      "cell_type": "code",
      "execution_count": 26,
      "metadata": {
        "colab": {
          "base_uri": "https://localhost:8080/",
          "height": 426
        },
        "id": "9_IL0JKLWOnE",
        "outputId": "7124440c-8e89-42c6-e68e-930fb5476298"
      },
      "outputs": [
        {
          "name": "stdout",
          "output_type": "stream",
          "text": [
            "avg recall@TOP_K=10 float: 0.694\n",
            "avg recall@TOP_K=10 binary: 0.642\n"
          ]
        },
        {
          "data": {
            "image/png": "[encoded data removed]",
            "text/plain": [
              "<Figure size 600x400 with 1 Axes>"
            ]
          },
          "metadata": {},
          "output_type": "display_data"
        }
      ],
      "source": [
        "# recall@k comparison\n",
        "recall_float, recall_bin = [], []\n",
        "\n",
        "for i, q_emb in enumerate(query_embeddings):\n",
        "  q = q_emb.reshape(1, -1)\n",
        "  qid = query_ids[i]\n",
        "  relevant_docs = set(qrels_dict.get(qid, {}).keys())\n",
        "\n",
        "  # float index\n",
        "  _, I_f = index_flat.search(q, TOP_K)\n",
        "  retrieved_f = [corpus_ids[idx] for idx in I_f[0]]\n",
        "  recall_f = len(set(retrieved_f) & relevant_docs) / len(relevant_docs) if relevant_docs else 0\n",
        "  recall_float.append(recall_f)\n",
        "\n",
        "  # binary index\n",
        "  q_bin = np.packbits((q > 0).astype(np.uint8), axis=1)\n",
        "  _, I_b = index_bin.search(q_bin, TOP_K)\n",
        "  retrieved_b = [corpus_ids[idx] for idx in I_b[0]]\n",
        "  recall_b = len(set(retrieved_b) & relevant_docs) / len(relevant_docs) if relevant_docs else 0\n",
        "  recall_bin.append(recall_b)\n",
        "\n",
        "# average recall@k\n",
        "avg_recall_float = np.mean(recall_float)\n",
        "avg_recall_bin = np.mean(recall_bin)\n",
        "\n",
        "print(f\"avg recall@TOP_K={TOP_K} float: {avg_recall_float:.3f}\")\n",
        "print(f\"avg recall@TOP_K={TOP_K} binary: {avg_recall_bin:.3f}\")\n",
        "\n",
        "# plot chart\n",
        "plt.figure(figsize=(6,4))\n",
        "bars = plt.bar([\"Float\", \"Binary\"], [avg_recall_float, avg_recall_bin], color=[\"skyblue\", \"orange\"])\n",
        "plt.ylabel(f\"Recall@TOP_K={TOP_K}\")\n",
        "plt.title(f\"Float vs Binary Recall@TOP_K={TOP_K}\")\n",
        "plt.ylim(0,1)\n",
        "\n",
        "for bar in bars:\n",
        "    height = bar.get_height()\n",
        "    plt.text(bar.get_x() + bar.get_width()/2, height + 0.01, f\"{height:.2f}\", ha='center', va='bottom')\n",
        "\n",
        "plt.show()"
      ]
    },
    {
      "cell_type": "code",
      "execution_count": 27,
      "metadata": {
        "colab": {
          "base_uri": "https://localhost:8080/",
          "height": 426
        },
        "id": "uO0Ks70dCl_B",
        "outputId": "c8b3c6e4-ded4-4a4e-b6d0-1f725f985bb0"
      },
      "outputs": [
        {
          "name": "stdout",
          "output_type": "stream",
          "text": [
            "avg nDCG@TOP_K=10 float: 0.505\n",
            "avg nDCG@TOP_K=10 binary: 0.455\n"
          ]
        },
        {
          "data": {
            "image/png": "[encoded data removed]",
            "text/plain": [
              "<Figure size 600x400 with 1 Axes>"
            ]
          },
          "metadata": {},
          "output_type": "display_data"
        }
      ],
      "source": [
        "# ndcg@k comparison\n",
        "def ndcg(retrieved, relevant_docs, k=10):\n",
        "  dcg = 0.0\n",
        "  for i, doc_id in enumerate(retrieved[:k]):\n",
        "    rel = relevant_docs.get(doc_id, 0) if isinstance(relevant_docs, dict) else int(doc_id in relevant_docs)\n",
        "    dcg += (2**rel-1) / np.log2(i+2)\n",
        "  ideal_rel = sorted([int(doc in relevant_docs) if isinstance(relevant_docs, set) else relevant_docs[doc] for doc in retrieved[:k]], reverse=True)\n",
        "  idcg = sum((2**rel-1)/np.log2(idx+2) for idx,rel in enumerate(ideal_rel))\n",
        "  return dcg/idcg if idcg>0 else 0\n",
        "\n",
        "ndcgs_float, ndcgs_bin = [], []\n",
        "\n",
        "for i, q_emb in enumerate(query_embeddings):\n",
        "  q = q_emb.reshape(1, -1)\n",
        "  qid = query_ids[i]\n",
        "  relevant_docs = set(qrels_dict.get(qid, {}).keys())\n",
        "\n",
        "  # float index\n",
        "  _, I_f = index_flat.search(q, TOP_K)\n",
        "  retrieved_f = [corpus_ids[idx] for idx in I_f[0]]\n",
        "  ndcgs_float.append(ndcg(retrieved_f, relevant_docs, k=TOP_K))\n",
        "\n",
        "  # binary index\n",
        "  q_bin = np.packbits((q > 0).astype(np.uint8), axis=1)\n",
        "  _, I_b = index_bin.search(q_bin, TOP_K)\n",
        "  retrieved_b = [corpus_ids[idx] for idx in I_b[0]]\n",
        "  ndcgs_bin.append(ndcg(retrieved_b, relevant_docs, k=TOP_K))\n",
        "\n",
        "# average nDCG\n",
        "avg_ndcg_float = np.mean(ndcgs_float)\n",
        "avg_ndcg_bin = np.mean(ndcgs_bin)\n",
        "print(f\"avg nDCG@TOP_K={TOP_K} float: {avg_ndcg_float:.3f}\")\n",
        "print(f\"avg nDCG@TOP_K={TOP_K} binary: {avg_ndcg_bin:.3f}\")\n",
        "\n",
        "# plot chart\n",
        "plt.figure(figsize=(6,4))\n",
        "bars = plt.bar([\"Float\", \"Binary\"], [avg_ndcg_float, avg_ndcg_bin], color=[\"skyblue\", \"orange\"])\n",
        "plt.ylim(0,1)\n",
        "plt.ylabel(f\"nDCG@TOP_K={TOP_K}\")\n",
        "plt.title(\"nDCG Comparison: Float vs Binary\")\n",
        "\n",
        "for bar in bars:\n",
        "    height = bar.get_height()\n",
        "    plt.text(bar.get_x() + bar.get_width()/2, height + 0.02, f\"{height:.3f}\", ha='center', va='bottom')\n",
        "\n",
        "plt.show()"
      ]
    }
  ],
  "metadata": {
    "accelerator": "GPU",
    "colab": {
      "gpuType": "T4",
      "provenance": []
    },
    "kernelspec": {
      "display_name": "Python 3 (ipykernel)",
      "language": "python",
      "name": "python3"
    },
    "language_info": {
      "codemirror_mode": {
        "name": "ipython",
        "version": 3
      },
      "file_extension": ".py",
      "mimetype": "text/x-python",
      "name": "python",
      "nbconvert_exporter": "python",
      "pygments_lexer": "ipython3",
      "version": "3.13.5"
    }
  },
  "nbformat": 4,
  "nbformat_minor": 4
}
